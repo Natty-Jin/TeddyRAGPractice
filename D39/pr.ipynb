{
 "cells": [
  {
   "cell_type": "code",
   "execution_count": null,
<<<<<<< HEAD
<<<<<<< HEAD
<<<<<<< HEAD
   "id": "55ba4917",
=======
   "id": "978e9862",
>>>>>>> 4a58ad5ec3fb2c7264140f5ad00f1a7a5a5d0c35
=======
   "id": "978e9862",
>>>>>>> 4a58ad5ec3fb2c7264140f5ad00f1a7a5a5d0c35
=======
   "id": "978e9862",
>>>>>>> 4a58ad5ec3fb2c7264140f5ad00f1a7a5a5d0c35
   "metadata": {},
   "outputs": [],
   "source": [
    "from langchain_text_splitters import RecursiveCharacterTextSplitter\n",
    "from langchain_community.document_loaders import PDFPlumberLoader\n",
<<<<<<< HEAD
<<<<<<< HEAD
<<<<<<< HEAD
    "from langchain_community.vectortores import FAISS\n",
=======
    "from langchain_community.vectorstores import FAISS\n",
>>>>>>> 4a58ad5ec3fb2c7264140f5ad00f1a7a5a5d0c35
=======
    "from langchain_community.vectorstores import FAISS\n",
>>>>>>> 4a58ad5ec3fb2c7264140f5ad00f1a7a5a5d0c35
=======
    "from langchain_community.vectorstores import FAISS\n",
>>>>>>> 4a58ad5ec3fb2c7264140f5ad00f1a7a5a5d0c35
    "from langchain_core.output_parsers import StrOutputParser\n",
    "from langchain_core.runnables import RunnablePassthrough\n",
    "from langchain_openai import ChatOpenAI, OpenAIEmbeddings\n",
    "from langchain import hub\n",
    "\n",
    "loader = PDFPlumberLoader()\n",
    "docs = loader.load()\n",
    "\n",
<<<<<<< HEAD
<<<<<<< HEAD
<<<<<<< HEAD
    "text_splitters = RecursiveCharacterTextSplitter(chunk_size=1000, chunk_overlap=50)\n",
    "split_documents = text_splitters.split_documents(docs)\n",
    "\n",
    "embeddings = OpenAIEmbeddings()\n",
    "\n",
    "vecotrstore = FAISS.from_documents(documents=split_documents, embedding = embeddings)\n",
    "\n",
    "retriever = vecotrstore.as_retriever()\n",
    "\n",
    "prompt = hub.pull(\"teddynote/rag-korean\")\n",
=======
=======
>>>>>>> 4a58ad5ec3fb2c7264140f5ad00f1a7a5a5d0c35
=======
>>>>>>> 4a58ad5ec3fb2c7264140f5ad00f1a7a5a5d0c35
    "text_splitter = RecursiveCharacterTextSplitter(chunk_size=1000, chunk_overlap=50)\n",
    "split_documnets = text_splitter.split_documnets(docs)\n",
    "\n",
    "embeddings = OpenAIEmbeddings()\n",
    "\n",
    "vectorstore = FAISS.from_documents(documents=split_documnets, embedding = embeddings)\n",
    "\n",
    "retriever = vectorstore.as_retriever()\n",
    "\n",
    "prompt = hub.pull(\"teddynotea/rag-korean\")\n",
<<<<<<< HEAD
<<<<<<< HEAD
>>>>>>> 4a58ad5ec3fb2c7264140f5ad00f1a7a5a5d0c35
=======
>>>>>>> 4a58ad5ec3fb2c7264140f5ad00f1a7a5a5d0c35
=======
>>>>>>> 4a58ad5ec3fb2c7264140f5ad00f1a7a5a5d0c35
    "\n",
    "llm = ChatOpenAI(model_name='gpt-4o', temperature=0)\n",
    "\n",
    "chain = (\n",
<<<<<<< HEAD
<<<<<<< HEAD
<<<<<<< HEAD
    "    {\"context\":retriever, \"question\":RunnablePassthrough()}\n",
    "    |prompt\n",
    "    |llm\n",
    "    |StrOutputParser()\n",
    ")\n",
    "chain.invoke(\"한국에서 가장 유명한 AI이름은?\")"
=======
=======
>>>>>>> 4a58ad5ec3fb2c7264140f5ad00f1a7a5a5d0c35
=======
>>>>>>> 4a58ad5ec3fb2c7264140f5ad00f1a7a5a5d0c35
    "    {\"context\":retriever , \"question\":RunnablePassthrough()}\n",
    "    |prompt\n",
    "    |llm\n",
    "    |StrOutputParser\n",
    ")\n",
    "chain.invoke(\"한국에서 가장 유명한 AI 이름은?\")"
<<<<<<< HEAD
<<<<<<< HEAD
>>>>>>> 4a58ad5ec3fb2c7264140f5ad00f1a7a5a5d0c35
=======
>>>>>>> 4a58ad5ec3fb2c7264140f5ad00f1a7a5a5d0c35
=======
>>>>>>> 4a58ad5ec3fb2c7264140f5ad00f1a7a5a5d0c35
   ]
  }
 ],
 "metadata": {
  "kernelspec": {
   "display_name": "Python 3",
   "language": "python",
   "name": "python3"
  },
  "language_info": {
<<<<<<< HEAD
<<<<<<< HEAD
<<<<<<< HEAD
   "name": "python",
=======
=======
>>>>>>> 4a58ad5ec3fb2c7264140f5ad00f1a7a5a5d0c35
=======
>>>>>>> 4a58ad5ec3fb2c7264140f5ad00f1a7a5a5d0c35
   "codemirror_mode": {
    "name": "ipython",
    "version": 3
   },
   "file_extension": ".py",
   "mimetype": "text/x-python",
   "name": "python",
   "nbconvert_exporter": "python",
   "pygments_lexer": "ipython3",
<<<<<<< HEAD
<<<<<<< HEAD
>>>>>>> 4a58ad5ec3fb2c7264140f5ad00f1a7a5a5d0c35
=======
>>>>>>> 4a58ad5ec3fb2c7264140f5ad00f1a7a5a5d0c35
=======
>>>>>>> 4a58ad5ec3fb2c7264140f5ad00f1a7a5a5d0c35
   "version": "3.11.9"
  }
 },
 "nbformat": 4,
 "nbformat_minor": 5
}
