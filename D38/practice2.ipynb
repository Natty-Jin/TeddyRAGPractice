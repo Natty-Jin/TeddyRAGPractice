{
 "cells": [
  {
   "cell_type": "code",
   "execution_count": null,
   "id": "f7c11065",
   "metadata": {},
   "outputs": [],
   "source": [
    "from langchain_text_splitters import RecursiveCharacterTextSplitter\n",
    "from langchain_community.document_loaders import PDFPLumberLoader, PyMuPDF, PyPDFLoader\n",
    "from langchain_community.vecotorstores import FAISS\n",
    "from langchain_chroma import chroma\n",
    "from langchain_core.output_parsers import StrOutputParser\n",
    "from langchain_core.runnables import RunnablePassthrough\n",
    "from langchain_openai import ChatOpenAI, OpenAIEmbeddings\n",
    "from langchain import hub\n",
    "\n",
    "loader = PDFPLumberLoader()\n",
    "loader1 = PyMuPDF()\n",
    "loader2 = PyPDFLoader()\n",
    "\n",
    "docs = loader.load()\n",
    "\n",
    "text_splitter = RecursiveCharacterTextSplitter(chunk_size=1000, chunk_overlap=50)\n",
    "split_documents = text_splitter.split_documents(docs)\n",
    "\n",
    "embeddings = OpenAIEmbeddings()\n",
    "embeddings2 = chroma()\n",
    "\n",
    "vectorstore = FAISS.from_documents(documents=split_documents, embedding = embeddings)\n",
    "\n",
    "retriever = vectorstore.as_retriever()\n",
    "\n",
    "prompt = hub.pull(\"teddynote/rag-korean\")\n",
    "\n",
    "llm = ChatOpenAI(model_name='gpt-4o-mini', temperature=0)\n",
    "\n",
    "chain = (\n",
    "    {\"context\":retriever, \"question\":RunnablePassthrough()}\n",
    "    |prompt\n",
    "    |llm\n",
    "    |StrOutputParser()\n",
    ")\n",
    "chain.invoke(\"LG전자가 개발한 생성형 AI 이름은?\")\n",
    "\n"
   ]
  }
 ],
 "metadata": {
  "language_info": {
   "name": "python"
  }
 },
 "nbformat": 4,
 "nbformat_minor": 5
}
