{
 "cells": [
  {
   "cell_type": "code",
   "execution_count": null,
   "metadata": {},
   "outputs": [],
   "source": [
    "from langchain_text_splitters import RecursiveCharacterSplitter\n",
    "from langchain_community.documents_loaders import PDFPlumberLoader\n",
    "from langchain_community.vectorstores import FAISS\n",
    "from langchain_core.output_parsers import StrOutputParser\n",
    "from langchain_core.runnables import RunnablePassthrough\n",
    "from langhcain_openai import ChatopenAI, OPenAIEMbeddings\n",
    "from langchain import hub\n",
    "\n",
    "loader = PDFPlumberLoader()\n",
    "docs = Loader.load()\n",
    "text_splitter = RecursiveCharacterSplitter(chunk_size=300, chunk_overlap=50)\n",
    "split_documents = text_splitter.split_documents(docs)\n",
    "embeddings = OPenAIEMbeddings()\n",
    "vectorstores = FAISS.from_documents(documents=split_documents, embedding=embeddings)\n",
    "retriever = vectorstore.as_retriever()\n",
    "prompt = hub.pull(\"teddynote/rag-korean\")\n",
    "llm = ChatOpenAI(model_name=\"gpt-4o\", temperature=0)\n",
    "\n",
    "chatin = (\n",
    "    {\"context\": retriever, \"question\": RunnablePassthrough()}\n",
    "    | prompt\n",
    "    | llm\n",
    "    | StrOutputParser()\n",
    ")\n",
    "\n",
    "chain.invoke(\"5살짜리 아이에게 AI에 대한 교육을 잘 설명해줘줘\")"
   ]
  }
 ],
 "metadata": {
  "kernelspec": {
   "display_name": "Python 3",
   "language": "python",
   "name": "python3"
  },
  "language_info": {
   "codemirror_mode": {
    "name": "ipython",
    "version": 3
   },
   "file_extension": ".py",
   "mimetype": "text/x-python",
   "name": "python",
   "nbconvert_exporter": "python",
   "pygments_lexer": "ipython3",
   "version": "3.11.9"
  }
 },
 "nbformat": 4,
 "nbformat_minor": 2
}
