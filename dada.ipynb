{
 "cells": [
  {
   "cell_type": "code",
   "execution_count": null,
   "metadata": {},
   "outputs": [
    {
     "name": "stdout",
     "output_type": "stream",
     "text": [
      "['G', 'o', 'o', 'd', '!']\n",
      "o\n"
     ]
    }
   ],
   "source": [
    "a = input()\n",
    "b = list(a)\n",
    "\n",
    "print(b[8:])\n",
    "print(b[10])"
   ]
  },
  {
   "cell_type": "code",
   "execution_count": 15,
   "metadata": {},
   "outputs": [
    {
     "name": "stdout",
     "output_type": "stream",
     "text": [
      "['G', 'o', 'o', 'd', '!']\n",
      "o\n"
     ]
    }
   ],
   "source": [
    "s = input().strip().split()\n",
    "b= list(s[1])\n",
    "print(b[:])\n",
    "print(b[1])"
   ]
  },
  {
   "cell_type": "code",
   "execution_count": null,
   "metadata": {},
   "outputs": [
    {
     "name": "stdout",
     "output_type": "stream",
     "text": [
      "첫 번째 원소: Onion\n",
      "마지막 원소: Bean\n",
      "리스트 거꾸로 출력하기: ['Carrot', 'Onion', 'Cabbage', 'Potato', 'Sweet Potato']\n"
     ]
    }
   ],
   "source": [
    "a = ['Carrot', 'Onion', 'Cabbage', 'Potato', 'Sweet Potato', 'Bean']\n",
    "\n",
    "print(f\"첫 번째 원소: {a[1]}\")\n",
    "print(f\"마지막 원소: {a[-1]}\")\n",
    "print(f\"리스트 거꾸로 출력하기: {a[::-1]}\")"
   ]
  },
  {
   "cell_type": "code",
   "execution_count": 21,
   "metadata": {},
   "outputs": [
    {
     "name": "stdout",
     "output_type": "stream",
     "text": [
      "첫 번째 원소: Onion\n",
      "마지막 원소: Bean\n",
      "리스트 거꾸로 출력하기: ['Bean', 'Sweet Potato', 'Potato', 'Cabbage', 'Onion', 'Carrot']\n",
      "li[2:5]: ['Cabbage', 'Potato', 'Sweet Potato']\n",
      "li[5:2:-1]: ['Bean', 'Sweet Potato', 'Potato']\n",
      "li[1:6:2]: ['Onion', 'Potato', 'Bean']\n"
     ]
    }
   ],
   "source": [
    "a = ['Carrot', 'Onion', 'Cabbage', 'Potato', 'Sweet Potato', 'Bean']\n",
    "\n",
    "print(f\"첫 번째 원소: {a[1]}\")\n",
    "print(f\"마지막 원소: {a[-1]}\")\n",
    "print(f\"리스트 거꾸로 출력하기: {a[::-1]}\")\n",
    "print(f\"li[2:5]: {a[2:5]}\")\n",
    "print(f\"li[5:2:-1]: {a[5:2:-1]}\")\n",
    "print(f\"li[1:6:2]: {a[1:6:2]}\")"
   ]
  },
  {
   "cell_type": "code",
   "execution_count": 26,
   "metadata": {},
   "outputs": [
    {
     "name": "stdout",
     "output_type": "stream",
     "text": [
      "[]\n"
     ]
    }
   ],
   "source": [
    "a =list(input(\"Element\").split())\n",
    "\n",
    "print(a[3:])"
   ]
  },
  {
   "cell_type": "code",
   "execution_count": null,
   "metadata": {},
   "outputs": [
    {
     "name": "stdout",
     "output_type": "stream",
     "text": [
      "['t', 'b', 'l', 'p']\n"
     ]
    }
   ],
   "source": [
    "a = []\n",
    "for i in range(6):\n",
    "    a =list(input(\"Element? \"))\n",
    "    a.append(a)\n",
    "\n",
    "index = int(input(\"Index? \"))\n",
    "print(a[index:])"
   ]
  },
  {
   "cell_type": "markdown",
   "metadata": {},
   "source": [
    "Element? Element? Element? Element? Element? Element? Index? ['baton', 'vacation', 'debunk', 'jawline']\n"
   ]
  },
  {
   "cell_type": "code",
   "execution_count": 29,
   "metadata": {},
   "outputs": [
    {
     "name": "stdout",
     "output_type": "stream",
     "text": [
      "[4, 8, 12]\n"
     ]
    }
   ],
   "source": [
    "a = []\n",
    "\n",
    "for i in range(1,16):\n",
    "    a.append(i)\n",
    "\n",
    "num = int(input().strip())\n",
    "\n",
    "print(a[num-1::num])"
   ]
  },
  {
   "cell_type": "code",
   "execution_count": 30,
   "metadata": {},
   "outputs": [
    {
     "name": "stdout",
     "output_type": "stream",
     "text": [
      "[['1', '2'], ['3', '4']]\n"
     ]
    }
   ],
   "source": [
    "b = []\n",
    "for i in range(2):\n",
    "    a = input().split()\n",
    "    b.append(a)\n",
    "print(b)"
   ]
  },
  {
   "cell_type": "code",
   "execution_count": null,
   "metadata": {},
   "outputs": [
    {
     "name": "stdout",
     "output_type": "stream",
     "text": [
      "[1, 1, 3, 3, 3, 3]\n"
     ]
    }
   ],
   "source": [
    "a_value, a_count = map(int, input().split())\n",
    "a_list = [a_value] * a_count\n",
    "\n",
    "b_value, b_count = map(int, input().split())\n",
    "b_list = [b_value] * b_count\n",
    "\n",
    "result = a_list + b_list\n",
    "\n",
    "print(result)"
   ]
  },
  {
   "cell_type": "code",
   "execution_count": 43,
   "metadata": {},
   "outputs": [
    {
     "name": "stdout",
     "output_type": "stream",
     "text": [
      "Color: g, y, p, ew\n",
      "Animal: , , , \n"
     ]
    }
   ],
   "source": [
    "a, b, c, d = input().split()  # 4개의 단어 입력받기\n",
    "words = [a, b, c, d]  # 리스트 생성\n",
    "\n",
    "# f-string 내부에서 {}로 변수값을 올바르게 참조\n",
    "print(f\"Color: {a[:4]}, {b[:4]}, {c[:5]}, {d[:5]}\")\n",
    "print(f\"Animal: {a[5:]}, {b[5:]}, {c[6:]}, {d[6:]}\")"
   ]
  }
 ],
 "metadata": {
  "kernelspec": {
   "display_name": "Python 3",
   "language": "python",
   "name": "python3"
  },
  "language_info": {
   "codemirror_mode": {
    "name": "ipython",
    "version": 3
   },
   "file_extension": ".py",
   "mimetype": "text/x-python",
   "name": "python",
   "nbconvert_exporter": "python",
   "pygments_lexer": "ipython3",
   "version": "3.11.9"
  }
 },
 "nbformat": 4,
 "nbformat_minor": 2
}
